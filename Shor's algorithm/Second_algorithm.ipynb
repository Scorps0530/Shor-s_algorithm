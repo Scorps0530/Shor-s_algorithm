{
 "cells": [
  {
   "cell_type": "code",
   "execution_count": 10,
   "id": "b6234c7d",
   "metadata": {},
   "outputs": [
    {
     "name": "stdout",
     "output_type": "stream",
     "text": [
      "실행시간: 13.814751863479614\n"
     ]
    }
   ],
   "source": [
    "\"\"\"\n",
    "2. 두 번째 소인수 분해 알고리즘\n",
    "만약 어떤 수 n의 소인수 중 가장 작은 소인수 mpf를 안다면\n",
    "mpf를 소인수 딕셔너리에 추가하고 n을 mpf로 나눔\n",
    "만약 n이 mpf와 같다면 소수이고 나누면 n이 1이 됨 -> 종료\n",
    "\"\"\"\n",
    "import math\n",
    "\n",
    "def factor2(n):\n",
    "    # mpf: minimum prime factor\n",
    "    mpf = {}\n",
    "    factors = {}\n",
    "    while (n>1):\n",
    "        mpfn = getMPF(n, mpf)\n",
    "        addFactor(factors, mpfn)\n",
    "        n = n // mpfn\n",
    "    return factors\n",
    "\n",
    "def addFactor(factors, f):\n",
    "    if (f not in factors):\n",
    "        factors[f] = 1 # 소인수 추가\n",
    "    else:\n",
    "        factors[f] += 1 # 소인수의 지수 1 증가\n",
    "\n",
    "def getMPF(n, mpf):\n",
    "    if (n in mpf):\n",
    "        return mpf[n]\n",
    "    else:\n",
    "        sqrtn = math.floor(math.sqrt(n))\n",
    "        for i in range(2, sqrtn + 1):\n",
    "            if (n%i == 0):\n",
    "                mpf[n] = i\n",
    "                return i\n",
    "        mpf[n] = n\n",
    "        return n\n",
    "    \n",
    "import time\n",
    "start = time.time()\n",
    "n = 2**20 - 1\n",
    "for i in range(2, n+1):\n",
    "    factor2(i)\n",
    "end = time.time()\n",
    "print('실행시간:', end-start)"
   ]
  },
  {
   "cell_type": "code",
   "execution_count": 13,
   "id": "637885b2",
   "metadata": {},
   "outputs": [
    {
     "name": "stdout",
     "output_type": "stream",
     "text": [
      "실행시간: 0.2390451431274414\n"
     ]
    }
   ],
   "source": [
    "\"\"\"\n",
    "더 빠르게?\n",
    "두 번째 알고리즘은 딕셔너리에 mpf 삽입/조회함\n",
    "-> 딕셔너리가 커질 수록 탐색에 시간 소요, 실행 속도 측면에선 불리\n",
    "\n",
    "(메모리제이션)\n",
    "만약, 특정 범위의 mpf를 한 번만 계산해 테이블에 담아두고\n",
    "이 테이블을 이용해서 소인수 분해를 수없이 반복한다면?\n",
    "-> 변형된 에라토스테네스의 체 알고리즘 적용\n",
    "\"\"\"\n",
    "\n",
    "def sieve2(n):\n",
    "    mpf = [0,0] + [i for i in range(2, n+1)] # 0~n\n",
    "    sqrtn = math.floor(math.sqrt(n))\n",
    "    for i in range(2, sqrtn + 1):\n",
    "        if (mpf[i] == i): # 소수 발견\n",
    "            for j in range(i*i, n+1, i): # i^2 이하의 i의 배수들은 이미 지워졌으므로 i^2부터 시작\n",
    "                if (mpf[j] == j):\n",
    "                    mpf[j] = i # i의 배수들 합성수로 결정\n",
    "    return mpf\n",
    "\n",
    "def factorize2(n, mpf): # mpf는 sieve2(n)으로 결정\n",
    "    factors = {}\n",
    "    while (n>1):\n",
    "        addFactor(factors, mpf[n])\n",
    "        n = n // mpf[n]\n",
    "    return factors\n",
    "\n",
    "import time\n",
    "start = time.time()\n",
    "n = (2**20) - 1\n",
    "mpf = sieve2(n)\n",
    "end = time.time()\n",
    "for i in range(2, n+1):\n",
    "    factorize2(i, mpf)\n",
    "#end = time.time()\n",
    "print(\"실행시간:\", end - start)\n",
    "\n",
    "# 아주 빠르당\n",
    "# 그러나 O(2^b)라는 지수시간 복잡도 극복 못했다\n",
    "# bit가 2048이면 슈퍼컴퓨터도 못 품"
   ]
  },
  {
   "cell_type": "code",
   "execution_count": null,
   "id": "3816cbae",
   "metadata": {},
   "outputs": [],
   "source": []
  }
 ],
 "metadata": {
  "kernelspec": {
   "display_name": "Python 3 (ipykernel)",
   "language": "python",
   "name": "python3"
  },
  "language_info": {
   "codemirror_mode": {
    "name": "ipython",
    "version": 3
   },
   "file_extension": ".py",
   "mimetype": "text/x-python",
   "name": "python",
   "nbconvert_exporter": "python",
   "pygments_lexer": "ipython3",
   "version": "3.9.12"
  }
 },
 "nbformat": 4,
 "nbformat_minor": 5
}
