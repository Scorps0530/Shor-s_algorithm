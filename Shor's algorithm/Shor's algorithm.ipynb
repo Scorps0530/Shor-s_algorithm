{
 "cells": [
  {
   "cell_type": "code",
   "execution_count": 3,
   "id": "ab7d1419",
   "metadata": {},
   "outputs": [],
   "source": [
    "\"\"\"\n",
    "쇼어의 알고리즘: bit 수의 다항복잡도로 소인수 분해하는 알고리즘\n",
    "\n",
    "입력 : 합성수 N (N = p*q, p와 q는 소수)\n",
    "출력 : N의 소인수 p, q\n",
    "\n",
    "1. 1보다 크고 N보다 작은 정수 a를 임의로 선택\n",
    "2-1. 만일, gcd(N, a) != 1, -> p 찾음 -> 앙기모띠 개꿀\n",
    "-> p = gcd(N, a), q = N/gcd(N,a)\n",
    "2-2. 함수 f(x) = a^x(mod N)의 주기 r을 찾는다\n",
    " - 여기서 찾은 주기 r이 짝수가 아니면, 1번 단계부터 다시 시작\n",
    "3. 주기 r로부터 두개의 최대공약수 gcd1, gcd2를 찾는다\n",
    "gcd1 = gcd(N, a^(r/2)+1), gcd2 = gcd(N, a^(r/2)-1)\n",
    "p = gcd1, q = gcd2 (if gcd1, gcd2 != N)\n",
    "\"\"\"\n",
    "\n",
    "import math\n",
    "import random"
   ]
  },
  {
   "cell_type": "code",
   "execution_count": 4,
   "id": "d7150cf6",
   "metadata": {},
   "outputs": [],
   "source": [
    "def findPeriod(N, a):\n",
    "    for x in range(1, N):\n",
    "        if ((a**x) % N == 1): \n",
    "            return x\n",
    "    return -1\n",
    "\n",
    "def factor3(N):\n",
    "    while(True):\n",
    "        a = random.randint(2, N-1) # 1<a<N\n",
    "        gcd = math.gcd(N, a)\n",
    "        if (gcd != 1): # 앙 기모띠\n",
    "            return gcd, N//gcd\n",
    "        r = findPeriod(N, a)\n",
    "        if (r%2 != 0):\n",
    "            continue\n",
    "        gcd1 = math.gcd(N, a**(r//2) + 1)\n",
    "        gcd2 = math.gcd(N, a**(r//2) - 1)\n",
    "        if (gcd1 == 1 or gcd2 == 1): # gcd1, gcd2가 1과 N이면 재시작\n",
    "            continue\n",
    "    return gcd1, gcd2"
   ]
  },
  {
   "cell_type": "code",
   "execution_count": 10,
   "id": "217b27fa",
   "metadata": {},
   "outputs": [
    {
     "name": "stdout",
     "output_type": "stream",
     "text": [
      "15 = 3 * 5\n"
     ]
    },
    {
     "data": {
      "text/plain": [
       "'\\nimport time\\nstart = time.time()\\nN = 991 * 997\\np, q = factor3(N)\\nprint(N, \\'=\\', p, \\'*\\', q)\\nend = time.time()\\nprint(\"실행시간:\", end-start)\\n'"
      ]
     },
     "execution_count": 10,
     "metadata": {},
     "output_type": "execute_result"
    }
   ],
   "source": [
    "N = 3*5\n",
    "p, q = factor3(N)\n",
    "print(N, '=', p, '*', q)\n",
    "\n",
    "\"\"\"\n",
    "import time\n",
    "start = time.time()\n",
    "N = 991 * 997\n",
    "p, q = factor3(N)\n",
    "print(N, '=', p, '*', q)\n",
    "end = time.time()\n",
    "print(\"실행시간:\", end-start)\n",
    "\"\"\""
   ]
  },
  {
   "cell_type": "code",
   "execution_count": 6,
   "id": "6e09af72",
   "metadata": {},
   "outputs": [],
   "source": [
    "\"\"\"\n",
    "왜 이리 느린가? : findPeriod\n",
    "- 주기를 찾기 위한 모듈러 거듭제곱 연산\n",
    "a가 큰 수이면 a의 거듭제곱 존나 오래 걸림\n",
    "==> 빠른 모듈러 거듭제곱 연산\n",
    "\"\"\"\n",
    "\n",
    "def findPeriodByModPow(N, a):\n",
    "    for x in range(1, N):\n",
    "        if (mod_pow(a, x, N) == 1):\n",
    "            return x\n",
    "    return -1\n",
    "\n",
    "def mod_pow(a, x, N):\n",
    "    y = 1\n",
    "    while (x>0):\n",
    "        if ((x & 1) == 1): # x 홀수이면\n",
    "            y = (y*a) % N\n",
    "        x = x >> 1\n",
    "        a = (a*a) % N\n",
    "    return y"
   ]
  },
  {
   "cell_type": "code",
   "execution_count": 7,
   "id": "dca4f8c5",
   "metadata": {},
   "outputs": [],
   "source": [
    "def factorize3(N):\n",
    "    while(True):\n",
    "        a = random.randint(2, N-1) # 1<a<N\n",
    "        gcd = math.gcd(N, a)\n",
    "        if (gcd != 1): # 앙 기모띠\n",
    "            return gcd, N//gcd\n",
    "        r = findPeriodByModPow(N, a)\n",
    "        if (r%2 != 0):\n",
    "            continue\n",
    "        gcd1 = math.gcd(N, a**(r//2) + 1)\n",
    "        gcd2 = math.gcd(N, a**(r//2) - 1)\n",
    "        if (gcd1 == 1 or gcd2 == 1): # gcd1, gcd2가 1과 N이면 재시작\n",
    "            continue\n",
    "    return gcd1, gcd2"
   ]
  },
  {
   "cell_type": "code",
   "execution_count": 13,
   "id": "64c7bacf",
   "metadata": {},
   "outputs": [
    {
     "name": "stdout",
     "output_type": "stream",
     "text": [
      "143 = 11 * 13\n",
      "실행시간: 0.0010001659393310547\n"
     ]
    }
   ],
   "source": [
    "import time\n",
    "start = time.time()\n",
    "N = 11 * 13\n",
    "p, q = factorize3(N)\n",
    "print(N, '=', p, '*', q)\n",
    "end = time.time()\n",
    "print(\"실행시간:\", end-start)"
   ]
  },
  {
   "cell_type": "code",
   "execution_count": null,
   "id": "ac4f7036",
   "metadata": {},
   "outputs": [],
   "source": []
  }
 ],
 "metadata": {
  "kernelspec": {
   "display_name": "Python 3 (ipykernel)",
   "language": "python",
   "name": "python3"
  },
  "language_info": {
   "codemirror_mode": {
    "name": "ipython",
    "version": 3
   },
   "file_extension": ".py",
   "mimetype": "text/x-python",
   "name": "python",
   "nbconvert_exporter": "python",
   "pygments_lexer": "ipython3",
   "version": "3.10.4"
  }
 },
 "nbformat": 4,
 "nbformat_minor": 5
}
