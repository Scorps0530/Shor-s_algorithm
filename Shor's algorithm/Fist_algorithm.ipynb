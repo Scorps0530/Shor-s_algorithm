{
 "cells": [
  {
   "cell_type": "code",
   "execution_count": 5,
   "id": "54fbfa39",
   "metadata": {},
   "outputs": [],
   "source": [
    "\"\"\"\n",
    "1. 첫 번째 소인수 분해 알고리즘\n",
    "입력 : 1보다 큰 정수 n\n",
    "출력 : 소인수와 차수(order)의 딕셔너리\n",
    "- {p1:k1, p2:k2, ... }\n",
    "2부터 sqrt(n)까지 정수 i에 대해 순차적으로\n",
    "- i가 n의 약수라면 딕셔너리에 추가 (차수는 1로 초기화)\n",
    "- 딕셔너리에 이미 해당 약수가 존재하면 차수를 1 증가\n",
    "- n은 n을 i로 나눈 몫으로 변경\n",
    "- i가 n의 약수가 아닐 때까지 반복\n",
    "\"\"\"\n",
    "\n",
    "import math"
   ]
  },
  {
   "cell_type": "code",
   "execution_count": 6,
   "id": "97c81eab",
   "metadata": {},
   "outputs": [],
   "source": [
    "# 소인수 분해\n",
    "def factorizel(n):\n",
    "    factors = {}\n",
    "    sqrtn = math.floor(math.sqrt(n))\n",
    "    for i in range(2, sqrtn + 1):\n",
    "        while (n % i == 0):\n",
    "            addFactor(factors, i)\n",
    "            n = n // i\n",
    "    if (n > 1):\n",
    "        addFactor(factors, n)\n",
    "    return factors\n",
    "\n",
    "# 약수 추가\n",
    "def addFactor(factors, f):\n",
    "    if (f not in factors):\n",
    "        factors[f] = 1 # 소인수 추가\n",
    "    else:\n",
    "        factors[f] += 1 # 차수 1 증가"
   ]
  },
  {
   "cell_type": "code",
   "execution_count": 22,
   "id": "99e0cfd7",
   "metadata": {},
   "outputs": [
    {
     "name": "stdout",
     "output_type": "stream",
     "text": [
      "2^10 - 1: {3: 1, 11: 1, 31: 1}\n",
      "실행시간: 0.0\n"
     ]
    }
   ],
   "source": [
    "import time\n",
    "start = time.time()\n",
    "\n",
    "n = (2**10) - 1\n",
    "print('2^10 - 1:', factorizel(n))\n",
    "    \n",
    "end = time.time()\n",
    "print(\"실행시간:\", end-start)"
   ]
  },
  {
   "cell_type": "code",
   "execution_count": 9,
   "id": "885ef437",
   "metadata": {},
   "outputs": [
    {
     "name": "stdout",
     "output_type": "stream",
     "text": [
      "2097151 : 155611\n",
      "실행시간: 9.634851694107056\n"
     ]
    }
   ],
   "source": [
    "\"\"\"\n",
    "성능 개선을 위한 아이디어\n",
    "- 소인수는 모두 소수이므로 1부터 sqrt(n)까지의 소수를 찾으면 됨\n",
    "-> primes\n",
    "primes에 있는 소수들로만 소인수 분해하면 됨\n",
    "\"\"\"\n",
    "\n",
    "def findPrimes(n):\n",
    "    primes = []\n",
    "    for i in range(2, n+1):\n",
    "        if (isPrime(i)):\n",
    "            primes.append(i)\n",
    "    return primes\n",
    "\n",
    "# 소수 판별\n",
    "def isPrime(n):\n",
    "    sqrtn = math.floor(math.sqrt(n))\n",
    "    for i in range(2, sqrtn + 1):\n",
    "        if (n % i == 0):\n",
    "            return False\n",
    "    return True\n",
    "\n",
    "\"\"\"\n",
    "모듈러 연산 - 나눗셈 연산 - 뺄셈 연산 - 2의 보수 덧셈 연산 - 비트 연산\n",
    "알고리즘 단위 연산에 영향을 미치는 입력 크기는 n의 비트 수\n",
    "n의 비트수 b = |log2(n)|+1,\n",
    "시간 복잡도 O(sqrt(n))=O(sqrt(2^b))=O(2^(b/2)) -> 지수복잡도\n",
    "\n",
    "에라토스테네스의 체, 확장된 에라토스테네스의 체로 조금 더 효율적일 수 있음\n",
    "\"\"\"\n",
    "\n",
    "start = time.time()\n",
    "n = (2**21) - 1\n",
    "print(n, \":\", len(findPrimes(n)))\n",
    "end = time.time()\n",
    "print(\"실행시간:\", end-start)"
   ]
  },
  {
   "cell_type": "code",
   "execution_count": 14,
   "id": "063dea4d",
   "metadata": {},
   "outputs": [
    {
     "name": "stdout",
     "output_type": "stream",
     "text": [
      "2097151 : 155611\n",
      "실행시간: 0.33449649810791016\n"
     ]
    }
   ],
   "source": [
    "\"\"\"\n",
    "에라토스테네스의 체\n",
    "2<=i<=sprt(n) 에서 작은 순대로 소수 판별\n",
    "a_i가 소수이면 k*a_i는 합성수\n",
    "-> k*a_i만 제외하면 소수를 얻음\n",
    "\"\"\"\n",
    "\n",
    "# 체\n",
    "def sieve(n):\n",
    "    flags = [0, 0] + [1] * (n-1) # 0, 1, 2, ... n\n",
    "    sqrtn = math.floor(math.sqrt(n))\n",
    "    for i in range(2, sqrtn + 1):\n",
    "        if (flags[i] == 1):\n",
    "            for j in range(2*i, n+1, i): #2 2i부터 n까지 i씩 더해줌\n",
    "                flags[j] = 0\n",
    "    primes = []\n",
    "    for i in range(len(flags)):\n",
    "        if (flags[i] == 1):\n",
    "            primes.append(i)\n",
    "    return primes\n",
    "\n",
    "start = time.time()\n",
    "n = (2**21) - 1\n",
    "print(n, \":\", len(sieve(n)))\n",
    "end = time.time()\n",
    "print(\"실행시간:\", end-start)"
   ]
  },
  {
   "cell_type": "code",
   "execution_count": 21,
   "id": "fe96a04b",
   "metadata": {},
   "outputs": [
    {
     "name": "stdout",
     "output_type": "stream",
     "text": [
      "2097151 : 155611\n",
      "실행시간: 0.3195343017578125\n"
     ]
    }
   ],
   "source": [
    "\"\"\"\n",
    "에라토스테네스의 체의 문제점\n",
    "1. 메모리는 충분한가\n",
    "- flags 배열을 저장할 수 있는 충분한 메모리 공간\n",
    "- 그래도 n이 너무 크다면?\n",
    "-> 세그먼트 에라토스테네스의 체\n",
    "    - n이 충분히 크면, 1~n을 sqrt(n)개의 세그먼트로 분할\n",
    "    - 첫번째 세그먼트(1~sqrt(n))에서 소수를 모두 찾은 뒤\n",
    "    - 이 소수들로 다음 세그먼트들을 차례로 방문하여 처리\n",
    "    \n",
    "첫 번째 세그먼트에서 필요한 소수들을 seeds에 담아 둠\n",
    "이 소수들로 나머지 모든 세그먼트에서 배수를 지움\n",
    "각 세그먼트에서 배수를 지우고 남은 소수들을 primes에 담음\n",
    "seeds + primes가 최종적인 소수 집합임\n",
    "\"\"\"\n",
    "\n",
    "def segemented(n):\n",
    "    sqrtn = math.floor(math.sqrt(n))\n",
    "    seeds = sieve(sqrtn)\n",
    "    primes = []\n",
    "    low = sqrtn # 세그먼트의 시작\n",
    "    high = 2*sqrtn - 1 # 세그먼트의 마지막\n",
    "    \n",
    "    while (low <= n):\n",
    "        if (high > n): # 마지막 세그먼트일 때\n",
    "            high = n \n",
    "        \n",
    "        flags = [1]*sqrtn\n",
    "        for i in range(len(seeds)):\n",
    "            \n",
    "            # 시작 위치\n",
    "            start = (low // seeds[i]) * seeds[i]\n",
    "            if(start < low): start += seeds[i]\n",
    "            \n",
    "            # i의 배수 제거\n",
    "            for j in range(start, high + 1, seeds[i]):\n",
    "                flags[j - low] = 0 # flag는 0부터 시작이므로\n",
    "        for i in range(low, high +1):\n",
    "            if (flag[i - low] == 1):\n",
    "                primes.append(i)\n",
    "        \n",
    "        low += sqrtn\n",
    "        high += sqrtn\n",
    "    return seeds + primes\n",
    "\n",
    "\"\"\"\n",
    "에라토스테네스의 체의 시간 복잡도\n",
    "알고리즘의 시간 복잡도가 O(nlog(logn))임이 증명ehla\n",
    "log(logn) ~ 1, O(nlog(logn)) ~ O(n) -> near linear\n",
    "그러나 n의 비트 수 b에 대해서는 여전히 O(2^b), 지수시간\n",
    "\"\"\"\n",
    "\n",
    "start = time.time()\n",
    "n = (2**21) - 1\n",
    "print(n, \":\", len(sieve(n)))\n",
    "end = time.time()\n",
    "print(\"실행시간:\", end-start)\n",
    "# 공간복잡도가 효율적인 반면 세그먼트들을 옮기는 과정 때문에 시간 복잡도는 올라감"
   ]
  }
 ],
 "metadata": {
  "kernelspec": {
   "display_name": "Python 3 (ipykernel)",
   "language": "python",
   "name": "python3"
  },
  "language_info": {
   "codemirror_mode": {
    "name": "ipython",
    "version": 3
   },
   "file_extension": ".py",
   "mimetype": "text/x-python",
   "name": "python",
   "nbconvert_exporter": "python",
   "pygments_lexer": "ipython3",
   "version": "3.9.12"
  }
 },
 "nbformat": 4,
 "nbformat_minor": 5
}
